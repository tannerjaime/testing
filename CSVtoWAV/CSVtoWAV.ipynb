{
 "cells": [
  {
   "cell_type": "code",
   "execution_count": null,
   "metadata": {
    "collapsed": false
   },
   "outputs": [],
   "source": [
    "import wave\n",
    "import random\n",
    "import struct\n",
    "import datetime\n",
    "import pandas as pd\n",
    "import csv\n",
    "from itertools import chain\n",
    "from scipy.interpolate import interp1d"
   ]
  },
  {
   "cell_type": "code",
   "execution_count": null,
   "metadata": {
    "collapsed": false
   },
   "outputs": [],
   "source": [
    "\n",
    "# with open('test.csv', 'r') as f:\n",
    "with open('17833860.CSV', 'r') as f:\n",
    "  reader = csv.reader(f)\n",
    "  data = list(reader)\n",
    "\n",
    "data = list(chain.from_iterable(data))\n",
    "\n",
    "\n",
    "for number in data:\n",
    "    if len(number) > 5:\n",
    "        data.remove(number)\n",
    "        \n",
    "data = [int(i) for i in data]\n"
   ]
  },
  {
   "cell_type": "code",
   "execution_count": null,
   "metadata": {
    "collapsed": false
   },
   "outputs": [],
   "source": [
    "m = interp1d([-100,500],[-32767,32767])\n",
    "\n",
    "for i in range(len(data)):    \n",
    "    data[i] = int(m(data[i]))"
   ]
  },
  {
   "cell_type": "code",
   "execution_count": null,
   "metadata": {
    "collapsed": false
   },
   "outputs": [],
   "source": [
    "print(data)"
   ]
  },
  {
   "cell_type": "code",
   "execution_count": null,
   "metadata": {
    "collapsed": false
   },
   "outputs": [],
   "source": [
    "noise_output = wave.open('data4.wav', 'w')\n",
    "\n",
    "noise_output.setparams((2, 2, 44100, 0, 'NONE', 'not compressed')) # nchannels, sampwidth, framerate, nframes, comptype, compname\n",
    "\n",
    "for i in data:\n",
    "    value = random.randint(-32767, 32767)\n",
    "    noise_output.writeframes(packed_value)\n",
    "    noise_output.writeframes(packed_value)\n",
    "\n",
    "\n",
    "noise_output.close()"
   ]
  },
  {
   "cell_type": "code",
   "execution_count": null,
   "metadata": {
    "collapsed": true
   },
   "outputs": [],
   "source": []
  },
  {
   "cell_type": "code",
   "execution_count": null,
   "metadata": {
    "collapsed": true
   },
   "outputs": [],
   "source": []
  }
 ],
 "metadata": {
  "kernelspec": {
   "display_name": "Python 3",
   "language": "python",
   "name": "python3"
  },
  "language_info": {
   "codemirror_mode": {
    "name": "ipython",
    "version": 3
   },
   "file_extension": ".py",
   "mimetype": "text/x-python",
   "name": "python",
   "nbconvert_exporter": "python",
   "pygments_lexer": "ipython3",
   "version": "3.5.2"
  }
 },
 "nbformat": 4,
 "nbformat_minor": 0
}
