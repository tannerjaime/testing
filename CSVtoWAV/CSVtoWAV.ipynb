{
 "cells": [
  {
   "cell_type": "code",
   "execution_count": null,
   "metadata": {
    "collapsed": false
   },
   "outputs": [],
   "source": [
    "import wave\n",
    "import random\n",
    "import math\n",
    "import array\n",
    "import struct\n",
    "import datetime\n",
    "import pandas as pd\n",
    "import numpy as np\n",
    "import csv\n",
    "from itertools import chain\n",
    "from scipy.interpolate import interp1d"
   ]
  },
  {
   "cell_type": "code",
   "execution_count": null,
   "metadata": {
    "collapsed": false
   },
   "outputs": [],
   "source": [
    "#open data\n",
    "\n",
    "with open('orange/17843940.CSV', 'r') as f:\n",
    "  reader = csv.reader(f)\n",
    "  data = list(reader)\n",
    "\n",
    "data = list(chain.from_iterable(data))\n",
    "# print (data[0][0:4])\n",
    "\n",
    "for number in data:\n",
    "    if number[0:4] == 'time':\n",
    "        data.remove(number)\n",
    "        \n",
    "data.remove(data[0])\n",
    "        \n",
    "data = [int(i) for i in data]\n",
    "\n"
   ]
  },
  {
   "cell_type": "code",
   "execution_count": null,
   "metadata": {
    "collapsed": false
   },
   "outputs": [],
   "source": [
    "data"
   ]
  },
  {
   "cell_type": "code",
   "execution_count": null,
   "metadata": {
    "collapsed": false
   },
   "outputs": [],
   "source": [
    "#scale data\n",
    "m = interp1d([0,600],[-32767,32767])\n",
    "\n",
    "for i in range(len(data)):    \n",
    "    data[i] = int(m(data[i]))"
   ]
  },
  {
   "cell_type": "code",
   "execution_count": null,
   "metadata": {
    "collapsed": false
   },
   "outputs": [],
   "source": [
    "#turn list into an array\n",
    "data = array.array('h', data)\n",
    "print(data)"
   ]
  },
  {
   "cell_type": "code",
   "execution_count": null,
   "metadata": {
    "collapsed": false
   },
   "outputs": [],
   "source": [
    "#yesterdays work\n",
    "noise_output = wave.open('17843940-5512.wav', 'w')\n",
    "\n",
    "noise_output.setparams((2, 2, 5512, 0, 'NONE', 'not compressed')) # nchannels, sampwidth, framerate, nframes, comptype, compname\n",
    "\n",
    "for i in data:\n",
    "    value = i\n",
    "    packed_value = struct.pack('h', value)\n",
    "    noise_output.writeframes(packed_value)\n",
    "    noise_output.writeframes(packed_value)\n",
    "\n",
    "\n",
    "noise_output.close()"
   ]
  },
  {
   "cell_type": "code",
   "execution_count": null,
   "metadata": {
    "collapsed": false
   },
   "outputs": [],
   "source": [
    "#trying out snippet ben sent \n",
    "\n",
    "duration = 3 # seconds\n",
    "freq = 440 # of cycles per second (Hz) (frequency of the sine waves)\n",
    "volume = 100 # percent\n",
    "# data = array.array('h') # signed short integer (-32768 to 32767) data\n",
    "\n",
    "sampleRate = 9600 # of samples per second (standard)\n",
    "numChan = 1 # of channels (1: mono, 2: stereo)\n",
    "dataSize = 2 # 2 bytes because of using signed short integers => bit depth = 16\n",
    "numSamplesPerCyc = int(sampleRate / freq)\n",
    "numSamples = sampleRate * duration\n",
    "for i in range(numSamples):\n",
    "    sample = 32767 * float(volume) / 100\n",
    "    sample *= math.sin(math.pi * 2 * (i % numSamplesPerCyc) / numSamplesPerCyc)\n",
    "    data.append(int(sample))\n",
    "f = wave.open('SineWave_' + str(freq) + 'Hz.wav', 'w')\n",
    "f.setparams((numChan, dataSize, sampleRate, numSamples, \"NONE\", \"Uncompressed\"))\n",
    "f.writeframes(data.tostring())\n",
    "f.close()"
   ]
  },
  {
   "cell_type": "code",
   "execution_count": null,
   "metadata": {
    "collapsed": true
   },
   "outputs": [],
   "source": []
  }
 ],
 "metadata": {
  "anaconda-cloud": {},
  "kernelspec": {
   "display_name": "Python [Root]",
   "language": "python",
   "name": "Python [Root]"
  },
  "language_info": {
   "codemirror_mode": {
    "name": "ipython",
    "version": 3
   },
   "file_extension": ".py",
   "mimetype": "text/x-python",
   "name": "python",
   "nbconvert_exporter": "python",
   "pygments_lexer": "ipython3",
   "version": "3.5.2"
  }
 },
 "nbformat": 4,
 "nbformat_minor": 0
}
